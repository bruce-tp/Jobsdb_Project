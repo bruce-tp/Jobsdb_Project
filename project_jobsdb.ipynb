{
 "cells": [
  {
   "cell_type": "code",
   "execution_count": 8,
   "metadata": {},
   "outputs": [
    {
     "name": "stdout",
     "output_type": "stream",
     "text": [
      "0\n",
      "1\n",
      "2\n",
      "3\n",
      "4\n",
      "5\n",
      "6\n",
      "7\n",
      "8\n",
      "9\n",
      "10\n",
      "11\n",
      "12\n",
      "13\n",
      "14\n",
      "15\n",
      "16\n",
      "17\n",
      "18\n",
      "19\n",
      "20\n",
      "21\n",
      "22\n",
      "23\n",
      "24\n",
      "25\n",
      "26\n",
      "27\n",
      "28\n",
      "29\n",
      "30\n",
      "31\n",
      "32\n",
      "33\n",
      "34\n",
      "35\n",
      "36\n",
      "37\n",
      "38\n",
      "39\n",
      "*****\n",
      "40\n",
      "*****\n"
     ]
    }
   ],
   "source": [
    "from bs4 import BeautifulSoup\n",
    "import requests\n",
    "DataList = []\n",
    "\n",
    "def Search(PageText):\n",
    "    JobList = []\n",
    "    html = requests.get(PageText)\n",
    "    soup = BeautifulSoup(html.text,\"html.parser\")\n",
    "    soup.head\n",
    "    i = 0\n",
    "    while True:\n",
    "        i += 1\n",
    "        try:\n",
    "            dic = (soup.find_all(\"div\")[i].attrs)\n",
    "            if 'data-automation' in dic:\n",
    "                JobList.append(dic['data-automation'])\n",
    "        except:\n",
    "            if JobList[3] == 'pagination':\n",
    "                return ('hello')\n",
    "            else:\n",
    "                # for item in JobList:\n",
    "                #     if item.isdigit():\n",
    "                #         print(item)\n",
    "                return JobList\n",
    "\n",
    "def JobToSearch(Job):        \n",
    "    Count = 0\n",
    "   \n",
    "    while True:\n",
    "        Count += 1\n",
    "        #print(\"https://hk.jobsdb.com/hk/search-jobs/\"+ Job +\"/\" + str(Count))\n",
    "        if Search(\"https://hk.jobsdb.com/hk/search-jobs/\" + Job + \"/\" + str(Count)) == 'hello':\n",
    "            break\n",
    "        \n",
    "        try:\n",
    "            print(len(DataList))\n",
    "            DataList.append(Search(\"https://hk.jobsdb.com/hk/search-jobs/\" + Job + \"/\" + str(Count)))\n",
    "            # for item in DataList[0]:\n",
    "            #     if item.isdigit():\n",
    "            #         print(item)\n",
    "        except:\n",
    "            #print(Count)\n",
    "            break\n",
    "\n",
    "JobToSearch('data engineer')\n",
    "print('*****')\n",
    "print (len(DataList))\n",
    "print('*****')\n",
    "listD_sci = []\n",
    "for i in range(len(DataList)):\n",
    "    for item in DataList[i]:\n",
    "        if item.isdigit()==True and len(item)>6:\n",
    "            \n",
    "            listD_sci.append(item)\n",
    "            \n",
    "\n",
    "    \n",
    "#         if item.isdigit():\n",
    "#             print(item)"
   ]
  },
  {
   "cell_type": "code",
   "execution_count": 9,
   "metadata": {},
   "outputs": [
    {
     "data": {
      "text/plain": [
       "1179"
      ]
     },
     "execution_count": 9,
     "metadata": {},
     "output_type": "execute_result"
    }
   ],
   "source": [
    "len(listD_sci)"
   ]
  },
  {
   "cell_type": "code",
   "execution_count": null,
   "metadata": {},
   "outputs": [],
   "source": []
  },
  {
   "cell_type": "code",
   "execution_count": 10,
   "metadata": {},
   "outputs": [
    {
     "data": {
      "text/plain": [
       "28"
      ]
     },
     "execution_count": 10,
     "metadata": {},
     "output_type": "execute_result"
    }
   ],
   "source": [
    "\n",
    "from bs4 import BeautifulSoup\n",
    "import requests\n",
    "import numpy as np\n",
    "from selenium import webdriver\n",
    "from selenium.webdriver.common.keys import Keys\n",
    "from selenium.webdriver.support.ui import WebDriverWait\n",
    "import csv\n",
    "import requests\n",
    "dict_of_prom = {\"SWIFT\":0, \"JAVA\":0, \"C#\":0, \"JAVASCRIPT\":0, \"PYTHON\":0, \"RUBY\":0, \"CSS\":0, \"PHP\":0, \"C++\":0, \"C\":0, \"SHELL\":0, \"SQL\":0, \".NET\":0, \"MALIB\":0, \"OBJECTIVE-C\":0, \"VISUAL BASIC\":0, \"DELPHI\":0, \"OBJECT PASCAL\":0, \"PERL\":0, \"R\":0, \"TYPESCRIPT\":0, \"VBA\":0, \"KOTLIN\":0, \"SCALA\":0, \"RUST\":0, \"LUA\":0, \"HASKELL\":0, \"JULIA\":0}\n",
    "len(dict_of_prom)"
   ]
  },
  {
   "cell_type": "code",
   "execution_count": 11,
   "metadata": {},
   "outputs": [
    {
     "name": "stdout",
     "output_type": "stream",
     "text": [
      "{'SWIFT': 947, 'JAVA': 1178, 'C#': 1099, 'JAVASCRIPT': 1116, 'PYTHON': 1173, 'RUBY': 989, 'CSS': 958, 'PHP': 1172, 'C++': 1160, 'C': 1070, 'SHELL': 1097, 'SQL': 1176, '.NET': 0, 'MALIB': 0, 'OBJECTIVE-C': 823, 'VISUAL BASIC': 0, 'DELPHI': 0, 'OBJECT PASCAL': 0, 'PERL': 1172, 'R': 1173, 'TYPESCRIPT': 998, 'VBA': 669, 'KOTLIN': 1098, 'SCALA': 1157, 'RUST': 799, 'LUA': 585, 'HASKELL': 0, 'JULIA': 0}\n"
     ]
    }
   ],
   "source": [
    "# list = [234]\n",
    "URL = \"https://hk.jobsdb.com/hk/en/job/analyst+programmer+system+analyst-\"\n",
    "\n",
    "for x in listD_sci:\n",
    "    URL = (\"https://hk.jobsdb.com/hk/en/job/analyst+programmer+system+analyst-\"+x)\n",
    "    html = requests.get(URL)\n",
    "    soup = BeautifulSoup(html.text, \"html.parser\")\n",
    "\n",
    "    #soup.ul.li, don't run this\n",
    "    #dict_of_prom = {\"JAVA\":0, \"C#\":0, \"JAVASCRIPT\":0, \"PYTHON\":0, \"RUBY\":0, \"CSS\":0, \"PHP\":0, \"C++\":0, \"C\":0, \"SHELL\":0, \"SQL\":0}\n",
    "    text = soup.div.get_text()\n",
    "    text = text.replace(\",\", \"\")\n",
    "    text = text.replace(\".\",\"\")\n",
    "    text = text.upper()\n",
    "\n",
    "\n",
    "    dict_of_prom2 = dict_of_prom.copy()\n",
    "    for x in range(len(dict_of_prom)):\n",
    "        for i in text.split():\n",
    "\n",
    "\n",
    "\n",
    "            if i == list(dict_of_prom.keys())[x]: #or i == list(dict_of_prom.keys())[x].title():\n",
    "                dict_of_prom2 [list(dict_of_prom2.keys())[x]] += 1\n",
    "\n",
    "\n",
    "\n",
    "\n",
    "    #                 count = True\n",
    "    #             else:\n",
    "    #                 count = False\n",
    "    #         if count = True:\n",
    "\n",
    "    for y in range(len(dict_of_prom)):\n",
    "\n",
    "        if dict_of_prom2[list(dict_of_prom2.keys())[y]]!=0:\n",
    "            dict_of_prom [list(dict_of_prom.keys())[y]]+=1            \n",
    "\n",
    "            \n",
    "print (dict_of_prom)\n"
   ]
  },
  {
   "cell_type": "code",
   "execution_count": null,
   "metadata": {},
   "outputs": [],
   "source": [
    "import matplotlib.pyplot as plt\n",
    "import matplotlib as mpl\n",
    "import seaborn as sns\n",
    "import pandas as pd\n",
    "import numpy as np\n",
    "sns.set(color_codes=True) #overide maplot libs ugly colours.\n",
    "mpl.rcParams['figure.figsize'] = [16, 10] #default figure size"
   ]
  },
  {
   "cell_type": "code",
   "execution_count": null,
   "metadata": {},
   "outputs": [],
   "source": [
    "# df = pd.DataFrame()\n",
    "# df.rename(columns = dict_of_prom.keys())\n",
    "# df\n"
   ]
  },
  {
   "cell_type": "code",
   "execution_count": null,
   "metadata": {},
   "outputs": [],
   "source": [
    "dict_of_prom.keys()"
   ]
  },
  {
   "cell_type": "code",
   "execution_count": null,
   "metadata": {},
   "outputs": [],
   "source": [
    "#我是分隔線----------------------------------------------------\n",
    "#[dict_of_prom]\n",
    "#df"
   ]
  },
  {
   "cell_type": "code",
   "execution_count": null,
   "metadata": {},
   "outputs": [],
   "source": [
    "df = pd.DataFrame([(dict_of_prom)])\n",
    "df = df.T\n",
    "df.columns = [\"freq\"]\n",
    "df.sort_values('freq', ascending = False, inplace = True)\n",
    "print (df)\n",
    "#sns.barplot(data = df)\n",
    "df.plot.bar()\n",
    "\n"
   ]
  },
  {
   "cell_type": "code",
   "execution_count": null,
   "metadata": {},
   "outputs": [],
   "source": [
    "# from bs4 import BeautifulSoup\n",
    "# import requests\n",
    "# import numpy as np\n",
    "# from selenium import webdriver\n",
    "# from selenium.webdriver.common.keys import Keys\n",
    "# from selenium.webdriver.support.ui import WebDriverWait\n",
    "# import csv\n",
    "# import requests\n",
    "# dict_of_prom = {\"JAVA\":0, \"C#\":0, \"JAVASCRIPT\":0, \"PYTHON\":0, \"RUBY\":0, \"CSS\":0, \"PHP\":0, \"C++\":0, \"C\":0, \"SHELL\":0, \"SQL\":0}\n",
    "\n",
    "html = requests.get(URL)\n",
    "soup = BeautifulSoup(html.text, \"html.parser\")\n",
    "\n",
    "#soup.ul.li, don't run this\n",
    "#dict_of_prom = {\"JAVA\":0, \"C#\":0, \"JAVASCRIPT\":0, \"PYTHON\":0, \"RUBY\":0, \"CSS\":0, \"PHP\":0, \"C++\":0, \"C\":0, \"SHELL\":0, \"SQL\":0}\n",
    "text = soup.div.get_text()\n",
    "text = text.replace(\",\", \"\")\n",
    "text = text.upper()\n",
    "\n",
    "\n",
    "dict_of_prom2 = {\"JAVA\":0, \"C#\":0, \"JAVASCRIPT\":0, \"PYTHON\":0, \"RUBY\":0, \"CSS\":0, \"PHP\":0, \"C++\":0, \"C\":0, \"SHELL\":0, \"SQL\":0}\n",
    "for x in range(len(dict_of_prom)):\n",
    "    for i in text.split():\n",
    "\n",
    "\n",
    "\n",
    "        if i == list(dict_of_prom.keys())[x]: #or i == list(dict_of_prom.keys())[x].title():\n",
    "            dict_of_prom2 [list(dict_of_prom2.keys())[x]] += 1\n",
    "\n",
    "\n",
    "\n",
    "\n",
    "#                 count = True\n",
    "#             else:\n",
    "#                 count = False\n",
    "#         if count = True:\n",
    "\n",
    "for y in range(len(dict_of_prom)):\n",
    "\n",
    "    if dict_of_prom2[list(dict_of_prom2.keys())[y]]!=0:\n",
    "        dict_of_prom [list(dict_of_prom.keys())[y]]+=1            \n",
    "\n",
    "\n",
    "                \n",
    "\n",
    "#if list(dict_of_prom2.keys())[x]!=0:\n",
    "#            dict_of_prom [list(dict_of_prom.keys())[x]]+=1\n",
    "\n",
    "dict_of_prom\n",
    "        \n",
    "        \n"
   ]
  },
  {
   "cell_type": "code",
   "execution_count": null,
   "metadata": {},
   "outputs": [],
   "source": [
    "# dict_of_prom = {\"JAVA\":0, \"C#\":0, \"JAVASCRIPT\":0, \"PYTHON\":0, \"RUBY\":0, \"CSS\":0, \"PHP\":0, \"C++\":0, \"C\":0, \"SHELL\":0}\n",
    "# #list(dict_of_prom.keys())\n",
    "# #dict_of_prom[\"JAVA\"]\n",
    "# dict_of_prom[list(dict_of_prom.keys())[x]]\n",
    "\n",
    "list(dict_of_prom2.keys())[0]"
   ]
  }
 ],
 "metadata": {
  "kernelspec": {
   "display_name": "Python 3",
   "language": "python",
   "name": "python3"
  },
  "language_info": {
   "codemirror_mode": {
    "name": "ipython",
    "version": 3
   },
   "file_extension": ".py",
   "mimetype": "text/x-python",
   "name": "python",
   "nbconvert_exporter": "python",
   "pygments_lexer": "ipython3",
   "version": "3.7.3"
  }
 },
 "nbformat": 4,
 "nbformat_minor": 2
}
